{
 "cells": [
  {
   "cell_type": "code",
   "execution_count": 2,
   "metadata": {},
   "outputs": [
    {
     "data": {
      "application/vnd.jupyter.widget-view+json": {
       "model_id": "29cf517935f04b198845bcf8e5c3f4bd",
       "version_major": 2,
       "version_minor": 0
      },
      "text/plain": [
       "Renderer(camera=PerspectiveCamera(children=(DirectionalLight(color='white', intensity=0.6, position=(-0.000280…"
      ]
     },
     "metadata": {},
     "output_type": "display_data"
    },
    {
     "name": "stdout",
     "output_type": "stream",
     "text": [
      "4162\n",
      "4162\n",
      "8324\n"
     ]
    }
   ],
   "source": [
    "import igl as igl\n",
    "import meshplot as mp\n",
    "from sklearn.cluster import spectral_clustering\n",
    "import matplotlib.pyplot as plt\n",
    "\n",
    "sv, sf = igl.read_triangle_mesh(\"C:\\\\Users\\\\maria\\\\Downloads\\\\mesh-segmentation\\\\Threshold_Porcelain_Teapot_White\\\\meshes\\\\model.obj\")\n",
    "A = igl.adjacency_matrix(sf)\n",
    "labels = spectral_clustering(A)\n",
    "\n",
    "mp.plot(sv, sf, labels)\n",
    "\n",
    "print(len(labels))\n",
    "print(len(sv))\n",
    "print(len(sf))"
   ]
  },
  {
   "cell_type": "code",
   "execution_count": null,
   "metadata": {},
   "outputs": [],
   "source": []
  }
 ],
 "metadata": {
  "kernelspec": {
   "display_name": "Python 3",
   "language": "python",
   "name": "python3"
  },
  "language_info": {
   "codemirror_mode": {
    "name": "ipython",
    "version": 3
   },
   "file_extension": ".py",
   "mimetype": "text/x-python",
   "name": "python",
   "nbconvert_exporter": "python",
   "pygments_lexer": "ipython3",
   "version": "3.10.0"
  }
 },
 "nbformat": 4,
 "nbformat_minor": 2
}
